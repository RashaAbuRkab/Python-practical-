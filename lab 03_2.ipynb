{
 "cells": [
  {
   "cell_type": "markdown",
   "metadata": {
    "id": "huSb5Xd94W5c"
   },
   "source": [
    "### DSAI 1302 - Computer Programming in Python\n",
    "# Programming with numbers and Strings 2"
   ]
  },
  {
   "cell_type": "markdown",
   "metadata": {
    "id": "pE5WCu_-4W5n"
   },
   "source": [
    "## Lab Learning Outcomes"
   ]
  },
  {
   "cell_type": "markdown",
   "metadata": {
    "id": "Zn6ZmAMK4W5q"
   },
   "source": [
    "- learn how to use Python strings.\n",
    "- create programs that read and process inputs, and display the results."
   ]
  },
  {
   "cell_type": "markdown",
   "metadata": {
    "id": "VG3lpvgI4W5t"
   },
   "source": [
    "## Some String Methods (Section 2.4.5 in the textbook)"
   ]
  },
  {
   "cell_type": "markdown",
   "metadata": {
    "id": "upzGYeGY4W5u"
   },
   "source": [
    "### The notion of an object and associated methods\n",
    "- an object is a software entity that represents a **value** with certain **behavior**.\n",
    "    - The value can be simple, such as a **string** or complex, such as a **data file**.\n",
    "    - The behavior of an object is given through its **methods**.\n",
    "- A method, like a function, is a collection of programming instructions that carry out a particular task. \n",
    "    - But unlike a function, which is a standalone operation, a method can only be applied to an object of the type for which it was defined. "
   ]
  },
  {
   "cell_type": "markdown",
   "metadata": {
    "id": "M6IK0Ayz4W5w"
   },
   "source": [
    "### An example\n",
    "- Consider the `upper` method associated with strings"
   ]
  },
  {
   "cell_type": "code",
   "execution_count": null,
   "metadata": {
    "id": "fKE5spGz4W5y",
    "outputId": "7bcf072b-0b53-484f-f5dc-9ef046a18c86"
   },
   "outputs": [],
   "source": [
    "#%%writefile lab03Example.py\n",
    "## Uncomment the above line after you finish your code and want to save it in a file.  \n",
    "\n",
    "name = \"John Smith\"  # name is the object\n",
    "uppercaseName = name.upper() # upper is the method\n",
    "print(uppercaseName)\n",
    "print(name)"
   ]
  },
  {
   "cell_type": "markdown",
   "metadata": {
    "id": "MQHv2V_T4W52"
   },
   "source": [
    "- Note here that the **`upper`** method results in a new string, i.e., it does NOT UPDATE the current string."
   ]
  },
  {
   "cell_type": "markdown",
   "metadata": {
    "id": "u-7LjDpP4W54"
   },
   "source": [
    "### Summary of some string methods\n",
    "![stringMethods.png](attachment:stringMethods.png)"
   ]
  },
  {
   "cell_type": "markdown",
   "metadata": {
    "id": "KK-ptM864W56"
   },
   "source": [
    "## Exercises"
   ]
  },
  {
   "cell_type": "markdown",
   "metadata": {
    "cell_style": "center",
    "id": "U-d9W5oj4W56"
   },
   "source": [
    "### Exercise 1\n",
    "Write an interactive Python3 program that prompts for and reads an integer number between 1,000 and 999,999. It then prints the number with a comma separating the thousand.                                                                                   \n",
    "Hint: use % and // division\n",
    "\n",
    "Sample program runs:\n",
    "\n",
    "Please enter a number between 1,000 and 999,999:  1234\n",
    "\n",
    "1,234\n",
    "\n",
    "------------------------------------------------------------------------\n",
    "\n",
    "Please enter a number between 1,000 and 999,999:  45786\n",
    "\n",
    "45,786                                                                                                                         \n",
    "\n",
    "-------------------------------------------------------------------------------                                     \n",
    "\n",
    "Please enter a number between 1,000 and 999,999: 999999\n",
    "\n",
    "999,999\n",
    "\n",
    "-------------------------------------------------------------------------\n",
    "\n"
   ]
  },
  {
   "cell_type": "code",
   "execution_count": 2,
   "metadata": {
    "id": "vYRw_eE24W58",
    "nbgrader": {
     "grade": false,
     "grade_id": "ex01_answer",
     "locked": false,
     "schema_version": 3,
     "solution": true,
     "task": false
    }
   },
   "outputs": [
    {
     "name": "stdout",
     "output_type": "stream",
     "text": [
      "Please enter a number between 1,000 and 999,999: 123654\n",
      "123,654\n"
     ]
    }
   ],
   "source": [
    "# YOUR CODE HERE\n",
    "\n",
    "Num = input(\"Please enter a number between 1,000 and 999,999: \")\n",
    "length = len(Num)\n",
    "\"\"\"\n",
    "print(Num[0:length-3])\n",
    "print(Num[length-3])\n",
    "print(Num[length-2])\n",
    "print(Num[length-1])\n",
    "\"\"\"\n",
    "print(Num[0:length-3]+\",\"+Num[length-3]+Num[length-2]+Num[length-1])"
   ]
  },
  {
   "cell_type": "code",
   "execution_count": 4,
   "metadata": {},
   "outputs": [
    {
     "name": "stdout",
     "output_type": "stream",
     "text": [
      "Please enter a number between 1,000 and 999,999: 12546\n",
      "12,546\n"
     ]
    }
   ],
   "source": [
    "#Another solution\n",
    "\n",
    "Num = int(input(\"Please enter a number between 1,000 and 999,999: \"))\n",
    "before = Num//1000\n",
    "after = Num%1000\n",
    "print(str(before) + \",\" + str(after))"
   ]
  },
  {
   "cell_type": "markdown",
   "metadata": {
    "id": "laxI9vo84W59"
   },
   "source": [
    "### Exercise 2\n",
    "Write an interactive Python3 program that prompts for and reads the area and the length of a rectangle in square centimeters.  It then calculates and prints:\n",
    "\n",
    "    •\tThe perimeter of the rectangle in centimeters.\n",
    "    •\tThe length of the diagonal in inches.\n",
    "    \n",
    "![rectangle.png](attachment:rectangle.png)\n",
    "\n",
    "Note:\n",
    "\n",
    "    •\tYour program must declare an appropriate constant.\n",
    "    •\t1 inch = 2.54 centimeters\n",
    "  \n",
    "Sample program runs:\n",
    "\n",
    "Enter the area of a rectangle in square cm: 500.0\n",
    "\n",
    "Enter the length of the rectangle in cm: 25.6\n",
    "\n",
    "Perimeter = 90.26 cm, Diagonal = 12.68 inches.\n",
    "\n",
    "-------------------------------------------------------------------------------\n",
    "\n",
    "Enter the area of a rectangle in square cm: 36.0\n",
    "\n",
    "Enter the length of the rectangle in cm: 6.0\n",
    "\n",
    "Perimeter = 24.00 cm, Diagonal = 3.34 inches.\n",
    "\n",
    "-------------------------------------------------------------------------------"
   ]
  },
  {
   "cell_type": "code",
   "execution_count": 7,
   "metadata": {
    "id": "VP9leAYF4W5-",
    "nbgrader": {
     "grade": false,
     "grade_id": "ex02_answer",
     "locked": false,
     "schema_version": 3,
     "solution": true
    }
   },
   "outputs": [
    {
     "name": "stdout",
     "output_type": "stream",
     "text": [
      "Enter the area of a rectangle in square cm: 36\n",
      "Enter the length of the rectangle in cm:6\n",
      "Perimeter = 24.00 cm, Diagonal =  3.34 inches.\n"
     ]
    }
   ],
   "source": [
    "# YOUR CODE HERE\n",
    "\n",
    "from math import sqrt\n",
    "\n",
    "IncheToCM=2.54\n",
    "\n",
    "Area=float(input(\"Enter the area of a rectangle in square cm: \"))\n",
    "Length=float(input(\"Enter the length of the rectangle in cm:\"))\n",
    "\n",
    "Width=Area/Length\n",
    "Perimeter= 2*(Length+Width)\n",
    "\n",
    "DiagonalCM=sqrt(Length*Length+Width*Width)\n",
    "\n",
    "DiagonalInche=DiagonalCM/IncheToCM\n",
    "\n",
    "print(\"Perimeter = %.2f cm, Diagonal =  %.2f inches.\"%(Perimeter,DiagonalInche))"
   ]
  },
  {
   "cell_type": "markdown",
   "metadata": {
    "id": "mj2JOCDo4W5-"
   },
   "source": [
    "### Exercise 3\n",
    "\n",
    "A student password is formed as follows:\n",
    "\n",
    "    •\tStudent’s first name in lowercase.\n",
    "\n",
    "    •\tFollowed by last character in uppercase\n",
    "\n",
    "    •\tFollowed by first character in uppercase\n",
    "\n",
    "    •\tFollowed by $ character\n",
    "\n",
    "    •\tFollowed by student’s year of birth * 2\n",
    "\n",
    "\n",
    "Write an interactive Paython3 program that prompts and reads a student’s first name and year of birth. It then creates and prints the student password.\n",
    "\n",
    "Sample program runs:\n",
    "\n",
    "Enter student's first name: MUHSIN\n",
    "\n",
    "Enter student's year of birth: 1982\n",
    "\n",
    "Password = muhsinNM$3964\n",
    "\n",
    "----------------------------------------------------\n",
    "\n",
    "Enter student's first name: Saleem\n",
    "\n",
    "Enter student's year of birth: 2005\n",
    "\n",
    "Password = saleemMS$4010\n",
    "\n",
    "-----------------------------------------------------\n"
   ]
  },
  {
   "cell_type": "code",
   "execution_count": 5,
   "metadata": {
    "id": "EPcF5mmm4W5_",
    "nbgrader": {
     "grade": false,
     "grade_id": "ex03_answer",
     "locked": false,
     "schema_version": 3,
     "solution": true
    }
   },
   "outputs": [
    {
     "name": "stdout",
     "output_type": "stream",
     "text": [
      "Enter student's first name: fatemah\n",
      "Enter student's year of birth: 1998\n",
      "Password = fatemahHF$3996\n"
     ]
    }
   ],
   "source": [
    "# YOUR CODE HERE\n",
    "\n",
    "Name=input(\"Enter student's first name: \")\n",
    "Year=int(input(\"Enter student's year of birth: \"))\n",
    "n=len(Name)\n",
    "PassFirst=Name.lower()+Name[n-1].upper()+Name[0].upper()+\"$\"\n",
    "PassLast=str(Year*2)\n",
    "print(\"Password = \"+PassFirst+PassLast)"
   ]
  },
  {
   "cell_type": "markdown",
   "metadata": {
    "id": "tpOp-Vmm4W6A"
   },
   "source": [
    "### Exercise 4\n",
    "Write an interactive Python3 program that prompts for a measurement in kilometers. It then converts it to miles, feet, and inches.\n",
    "\n",
    "Note:\n",
    "\n",
    "    1 mile = 1.609344 kilometers\n",
    "\n",
    "    1 mile = 5280 feet\n",
    "\n",
    "    1 foot = 12 inches\n",
    "\n",
    "\n",
    "Sample program runs:\n",
    "\n",
    "Enter distance in kilometers: 626.5\n",
    "\n",
    "626.50 kilometers equals 389 miles, 1526 feet, and 2.33 inches\n",
    "\n",
    "-------------------------------------------------------------------------------\n",
    "\n",
    "Enter distance in kilometers: 8.0\n",
    "\n",
    "8.00 kilometers equals 4 miles, 5126 feet, and 8.63 inches\n",
    "\n",
    "-------------------------------------------------------------------------------\n",
    "\n",
    "Enter distance in kilometers: 1.2\n",
    "\n",
    "1.20 kilometers equals 0 miles, 3937 feet, and 0.09 inches\n",
    "\n",
    "--------------------------------------------------------------------------------\n"
   ]
  },
  {
   "cell_type": "code",
   "execution_count": 4,
   "metadata": {
    "id": "LmRWuxqd4W6C",
    "nbgrader": {
     "grade": false,
     "grade_id": "ex04_answer",
     "locked": false,
     "schema_version": 3,
     "solution": true
    }
   },
   "outputs": [
    {
     "name": "stdout",
     "output_type": "stream",
     "text": [
      "Enter distance in kilometers: 626.5\n",
      "626.50 kilometers equals 389 miles, 2055446 feet, and 24665354.33 inches\n"
     ]
    }
   ],
   "source": [
    "# YOUR CODE HERE\n",
    "\n",
    "MileToKilo = 1.609344\n",
    "MileToFeet = 5280\n",
    "FootToInches = 12\n",
    "\n",
    "Kilometers=float(input(\"Enter distance in kilometers: \"))\n",
    "Miles=Kilometers/MileToKilo\n",
    "Feet=Miles*MileToFeet\n",
    "Inches=FootToInches*Feet\n",
    "print(\"%.2f kilometers equals %d miles, %d feet, and %.2f inches\"%(Kilometers, Miles , Feet, Inches))"
   ]
  }
 ],
 "metadata": {
  "celltoolbar": "Edit Metadata",
  "colab": {
   "name": "lab 03 Variables Expressions And Problem Solving 2 v2.ipynb",
   "provenance": []
  },
  "kernelspec": {
   "display_name": "Python 3",
   "language": "python",
   "name": "python3"
  },
  "language_info": {
   "codemirror_mode": {
    "name": "ipython",
    "version": 3
   },
   "file_extension": ".py",
   "mimetype": "text/x-python",
   "name": "python",
   "nbconvert_exporter": "python",
   "pygments_lexer": "ipython3",
   "version": "3.8.8"
  },
  "toc": {
   "base_numbering": 1,
   "nav_menu": {},
   "number_sections": true,
   "sideBar": true,
   "skip_h1_title": false,
   "title_cell": "Table of Contents",
   "title_sidebar": "Contents",
   "toc_cell": false,
   "toc_position": {},
   "toc_section_display": true,
   "toc_window_display": false
  },
  "varInspector": {
   "cols": {
    "lenName": 16,
    "lenType": 16,
    "lenVar": 40
   },
   "kernels_config": {
    "python": {
     "delete_cmd_postfix": "",
     "delete_cmd_prefix": "del ",
     "library": "var_list.py",
     "varRefreshCmd": "print(var_dic_list())"
    },
    "r": {
     "delete_cmd_postfix": ") ",
     "delete_cmd_prefix": "rm(",
     "library": "var_list.r",
     "varRefreshCmd": "cat(var_dic_list()) "
    }
   },
   "types_to_exclude": [
    "module",
    "function",
    "builtin_function_or_method",
    "instance",
    "_Feature"
   ],
   "window_display": false
  }
 },
 "nbformat": 4,
 "nbformat_minor": 1
}
