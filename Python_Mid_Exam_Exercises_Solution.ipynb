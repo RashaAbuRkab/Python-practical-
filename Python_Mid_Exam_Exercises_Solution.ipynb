{
  "cells": [
    {
      "cell_type": "code",
      "execution_count": null,
      "id": "b42cf3cb",
      "metadata": {
        "id": "b42cf3cb"
      },
      "outputs": [],
      "source": [
        "# Question 1\n",
        "# Write a program that reads a number between 10,000 and 99,999 from the user,\n",
        "# where the user enters a comma in the input. Then print the number without a\n",
        "# comma. Here is a sample dialog; the user input is in color:\n",
        "# Please enter an integer between 10,000 and 99,999: 23,456\n",
        "# 23456\n",
        "# Hint: Read the input as a string. Turn the strings consisting of the first two charac-\n",
        "# ters and the last three characters into numbers, and combine them.\n",
        "\n",
        "userInput = float(input(\"Please enter an integer between 10,000 and 99,999: \"))\n",
        "\n",
        "strUserInput = str(userInput)\n",
        "decimal = strUserInput[:2]\n",
        "float = strUserInput[3:]\n",
        "\n",
        "print(decimal + float)"
      ]
    },
    {
      "cell_type": "code",
      "execution_count": null,
      "id": "1e579655",
      "metadata": {
        "id": "1e579655"
      },
      "outputs": [],
      "source": [
        "# Question 2\n",
        "# The following pseudocode describes how a bookstore computes the price of an\n",
        "# order from the total price and the number of the books that were ordered.\n",
        "#     Read the book price and the number of books.\n",
        "#     Compute the tax (7.5 percent of the total book price).\n",
        "#     Compute the shipping charge ($2 per book).\n",
        "#     The price of the order is the sum of the total book price, the tax, and the shipping charge.\n",
        "#     Print the price of the order.\n",
        "# Translate this pseudocode into a Python program.\n",
        "\n",
        "bookPrice = float(input(\"Enter the book price: \"))\n",
        "numberOfBooks = int(input(\"Enter the number of books you like to buy: \"))\n",
        "totalBookPrice = bookPrice * numberOfBooks\n",
        "\n",
        "tax = (7.5 / 100 ) * totalBookPrice\n",
        "shippingCharge =  2 * numberOfBooks\n",
        "totalPrice = totalBookPrice + tax + shippingCharge\n",
        "\n",
        "print(\"-\" * 30)\n",
        "print(\"Order price: \", totalPrice)"
      ]
    },
    {
      "cell_type": "code",
      "execution_count": null,
      "id": "db7a6242",
      "metadata": {
        "id": "db7a6242"
      },
      "outputs": [],
      "source": [
        "# Question 3\n",
        "# Write programs that read a line of input as a string and print\n",
        "#     a.  Only the uppercase letters in the string.\n",
        "#     b.  Every second letter of the string.\n",
        "#     c.  The string, with all vowels replaced by an underscore.\n",
        "#     d.  The number of digits in the string.\n",
        "#     e.  The positions of all vowels in the string.\n",
        "\n",
        "#########################################\n",
        "# Branch A\n",
        "inputString = str(input(\"Enter a string: \"))\n",
        "\n",
        "result = \"\"\n",
        "\n",
        "for i in range(len(inputString)):\n",
        "    if inputString[i].isupper():\n",
        "        result += inputString[i]\n",
        "\n",
        "print(result)\n"
      ]
    },
    {
      "cell_type": "code",
      "execution_count": null,
      "id": "b51c3481",
      "metadata": {
        "id": "b51c3481"
      },
      "outputs": [],
      "source": [
        "#########################################\n",
        "# Branch B\n",
        "inputString = str(input(\"Enter a string: \"))\n",
        "result = \"\"\n",
        "\n",
        "for i in range(0, len(inputString), 2):\n",
        "    result += inputString[i]\n",
        "\n",
        "print(result)"
      ]
    },
    {
      "cell_type": "code",
      "execution_count": null,
      "id": "c25e9c3f",
      "metadata": {
        "id": "c25e9c3f"
      },
      "outputs": [],
      "source": [
        "#########################################\n",
        "# Branch C\n",
        "inputString = str(input(\"Enter a string: \"))\n",
        "outputString = \"\"\n",
        "# saving time writing long statements\n",
        "vowels = ('a','e','i','o','u','A','E','I','O','U')\n",
        "\n",
        "for i in range(len(inputString)):\n",
        "    if inputString[i] in vowels:\n",
        "        outputString += \"_\"\n",
        "\n",
        "    else:\n",
        "        outputString += inputString[i]\n",
        "\n",
        "print(outputString)"
      ]
    },
    {
      "cell_type": "code",
      "execution_count": null,
      "id": "b5dd9ff2",
      "metadata": {
        "id": "b5dd9ff2"
      },
      "outputs": [],
      "source": [
        "#########################################\n",
        "# Branch D\n",
        "inputString = str(input(\"Enter a string: \"))\n",
        "numDigits = 0\n",
        "\n",
        "for i in range(len(inputString)):\n",
        "    if inputString[i].isdigit():\n",
        "        numDigits += 1\n",
        "\n",
        "print(\"Number of digits:\", numDigits)"
      ]
    },
    {
      "cell_type": "code",
      "execution_count": null,
      "id": "51abf304",
      "metadata": {
        "id": "51abf304"
      },
      "outputs": [],
      "source": [
        "#########################################\n",
        "# Branch E\n",
        "inputString = str(input(\"Enter a string: \"))\n",
        "positions = \"\"\n",
        "# saving time writing long statements\n",
        "vowels = ('a','e','i','o','u','A','E','I','O','U')\n",
        "\n",
        "for i in range(len(inputString)):\n",
        "    if inputString[i] in vowels:\n",
        "            positions += str(i) + \"-\"\n",
        "\n",
        "\n",
        "# fix for the last dash in the positions string\n",
        "positions = positions[:-1]\n",
        "print(positions)"
      ]
    },
    {
      "cell_type": "code",
      "execution_count": null,
      "id": "7e236a6f",
      "metadata": {
        "id": "7e236a6f"
      },
      "outputs": [],
      "source": [
        "# Question 4\n",
        "# Write a program that computes taxes for the following schedule.\n",
        "# if your status is single and\n",
        "# if the taxable income is over   but not over        the tax is          of the amount over\n",
        "#     $0                              $8,000                  10%                 $0\n",
        "#  $8,000                             $32,000              $800 +  15%           $8,000\n",
        "#  $32,000                                                 $4,400 + 25%          $32,000\n",
        "#\n",
        "# if your status is Married and\n",
        "# if the taxable income is over    but not over        the tax is           of the amount over\n",
        "#  $0                              $16,000                  10%                     $0\n",
        "#  $16,000                         $64,000                 $1,600 + 15%            $16,000\n",
        "#  $64,000                                                  $8,800 + 25%           $64,000\n",
        "\n",
        "status = str(input(\"Are you single or married?: \"))\n",
        "\n",
        "if status == \"married\" or status == \"single\":\n",
        "    income = float(input(\"Enter your income: $\"))\n",
        "\n",
        "    tax = 0\n",
        "\n",
        "    if status == \"single\":\n",
        "        if income > 0 and income <= 8000:\n",
        "            tax = income * 0.10\n",
        "\n",
        "        elif income > 8000 and income <= 32000:\n",
        "            tax = (income * 0.15) + 800\n",
        "\n",
        "        elif income > 32000:\n",
        "            tax = (income * 0.25) + 4400\n",
        "\n",
        "        else:\n",
        "            print(\"Invalid income input\")\n",
        "\n",
        "    else:\n",
        "        if income > 0 and income <= 16000:\n",
        "            tax = income * 0.10\n",
        "\n",
        "        elif income > 16000 and income <= 64000:\n",
        "            tax = (income * 0.15) + 1600\n",
        "\n",
        "        elif income > 64000:\n",
        "            tax = (income * 0.25) + 8800\n",
        "\n",
        "        else:\n",
        "            print(\"Invalid income input\")\n",
        "\n",
        "\n",
        "    if(income > 0):\n",
        "        print(\"Your tax is: $%f\" % tax)\n",
        "\n",
        "else:\n",
        "    print(\"Invalid input\")"
      ]
    }
  ],
  "metadata": {
    "kernelspec": {
      "display_name": "Python 3",
      "language": "python",
      "name": "python3"
    },
    "language_info": {
      "codemirror_mode": {
        "name": "ipython",
        "version": 3
      },
      "file_extension": ".py",
      "mimetype": "text/x-python",
      "name": "python",
      "nbconvert_exporter": "python",
      "pygments_lexer": "ipython3",
      "version": "3.8.8"
    },
    "colab": {
      "provenance": []
    }
  },
  "nbformat": 4,
  "nbformat_minor": 5
}