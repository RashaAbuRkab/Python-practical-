{
  "cells": [
    {
      "cell_type": "markdown",
      "metadata": {
        "id": "jqIXUDeN-iFp"
      },
      "source": [
        "# DSAI 1302 - Programming in Python\n",
        "## Lists, Tuples and Dictionaries "
      ]
    },
    {
      "cell_type": "markdown",
      "metadata": {
        "id": "bdYQanBL-iFr"
      },
      "source": [
        "# Lab Objectives\n",
        "- To be familiar with common functions, operators and methods used with lists\n",
        "- To implement algorithms using lists and sets.\n",
        "- To structure programs using functions."
      ]
    },
    {
      "cell_type": "markdown",
      "metadata": {
        "id": "bCs2KPDK-iFr"
      },
      "source": [
        "# Common Functions and Operators Used with Lists"
      ]
    },
    {
      "cell_type": "markdown",
      "metadata": {
        "id": "73DBRvm6-iFr"
      },
      "source": [
        "![01Table1.PNG](attachment:01Table1.PNG)"
      ]
    },
    {
      "cell_type": "markdown",
      "metadata": {
        "id": "U7m7RQN4-iFr"
      },
      "source": [
        "# Common List Methods"
      ]
    },
    {
      "cell_type": "markdown",
      "metadata": {
        "id": "tqavH5MD-iFr"
      },
      "source": [
        "![02Table2.PNG](attachment:02Table2.PNG)"
      ]
    },
    {
      "cell_type": "markdown",
      "metadata": {
        "id": "4GesSIT8-iFs"
      },
      "source": [
        "# Worked Example"
      ]
    },
    {
      "cell_type": "markdown",
      "metadata": {
        "id": "RcFM4g05-iFs"
      },
      "source": [
        "- <font color='blue'>**Problem Statement:**</font> A final quiz score is computed by adding all the scores, except\n",
        "for the lowest two. \n",
        "    - For example, if the scores are  8 4 7 8.5 9.5 7 5 10, then the final score is 50. \n",
        "- Write a program to compute a final score in this way."
      ]
    },
    {
      "cell_type": "markdown",
      "metadata": {
        "id": "TyzcR0Wm-iFs"
      },
      "source": [
        "- <font color='blue'>**Step 1:**</font> Decompose your task into steps (What needs to be done)."
      ]
    },
    {
      "cell_type": "markdown",
      "metadata": {
        "id": "8STQZfIn-iFs"
      },
      "source": [
        " - \n",
        "    - Read the data into a list.\n",
        "    - Process the data in one or more steps.\n",
        "        - Remove the minimum.\n",
        "        - Remove the minimum again.\n",
        "        - Calculate the sum.\n",
        "    -  Display the results."
      ]
    },
    {
      "cell_type": "markdown",
      "metadata": {
        "id": "_Sb5jTyI-iFs"
      },
      "source": [
        "- <font color='blue'>**Step 2:**</font> Determine which algorithms you need. (How are you going to achieve these steps)"
      ]
    },
    {
      "cell_type": "markdown",
      "metadata": {
        "id": "4UJXOiJM-iFs"
      },
      "source": [
        "- For finding the minimum,\n",
        "    - You can either write code for that, or use the built-in functions and methods."
      ]
    },
    {
      "cell_type": "markdown",
      "metadata": {
        "id": "5eIx_y37-iFt"
      },
      "source": [
        "- <font color='blue'>**Step 3:**</font> Use functions to structure the program \n",
        "- Obviously, we need two functions:\n",
        "    - A function to read the input (`readFloats`)\n",
        "    - A function to find the minimum and remove it from the list (`removeMinimum`)\n",
        "    - A `main` function that will call the above ones and solve the problem.\n",
        "        - scores = readFloats()\n",
        "        - removeMinimum(scores)\n",
        "        - removeMinimum(scores)\n",
        "        - total = sum(scores)\n",
        "        - print(\"Final score:\", total)"
      ]
    },
    {
      "cell_type": "markdown",
      "metadata": {
        "id": "kbbdd2N3-iFt"
      },
      "source": [
        "- <font color='blue'>**Step 4:**</font> Develop test cases for the program.\n",
        "    - Think of all different scenarios.\n",
        "    - This will help you during the implementation of the program."
      ]
    },
    {
      "cell_type": "markdown",
      "metadata": {
        "id": "3LvH5s3d-iFt"
      },
      "source": [
        "![04TestCases.PNG](attachment:04TestCases.PNG)"
      ]
    },
    {
      "cell_type": "markdown",
      "metadata": {
        "id": "M3swmkDI-iFt"
      },
      "source": [
        "- <font color='blue'>**Step 5:**</font> Implement the program. "
      ]
    },
    {
      "cell_type": "code",
      "execution_count": null,
      "metadata": {
        "id": "NHm1u2K_-iFt"
      },
      "outputs": [],
      "source": [
        "##\n",
        "#  This program computes a final score for a series of quiz scores: the sum after \n",
        "#  dropping the two lowest scores. The program uses a list.\n",
        "#\n",
        "\n",
        "def main() :\n",
        "    scores = readFloats()\n",
        "    if len(scores) > 1 :\n",
        "        removeMinimum(scores)\n",
        "        removeMinimum(scores)\n",
        "        total = sum(scores)\n",
        "        print(\"Final score:\", total)      \n",
        "    else :\n",
        "        print(\"At least two scores are required.\")\n",
        "\n",
        "## Reads a sequence of floating-point numbers.\n",
        "#  @return a list containing the numbers\n",
        "#\n",
        "def readFloats() :\n",
        "   # Create an empty list.\n",
        "    values = []\n",
        "   \n",
        "   # Read the input values into a list.\n",
        "    print(\"Please enter values, Q to quit:\")\n",
        "    userInput = input(\"\")\n",
        "    while userInput.upper() != \"Q\" :\n",
        "        values.append(float(userInput))\n",
        "        userInput = input(\"\")\n",
        "    \n",
        "    return values\n",
        "\n",
        "## Removes the minimum value from a list.\n",
        "#  @param values a list of size >= 1\n",
        "#\n",
        "def removeMinimum(values) :\n",
        "    smallestPosition = 0\n",
        "    for i in range(1, len(values)) :\n",
        "        if values[i] < values[smallestPosition] :\n",
        "            smallestPosition = i\n",
        "         \n",
        "    values.pop(smallestPosition)\n",
        "   \n",
        "# Start the program.\n",
        "main()"
      ]
    },
    {
      "cell_type": "markdown",
      "metadata": {
        "id": "bkrFxXZj-iFu"
      },
      "source": [
        "# Excercises "
      ]
    },
    {
      "cell_type": "markdown",
      "metadata": {
        "id": "85tieT9y-iFu"
      },
      "source": [
        "## Excercise # 1\n",
        "Write a program that generates a sequence of 15 random values between 30 and 80 in a list, prints the sequence, sorts it in ascending and descending orders, and prints the sorted sequences. Use the list `sort` method. In addition to creating the `main` function, define and use a function that takes the required number of random values as well as the lower and upper limits as arguments then returns the required sequence. \n",
        "\n",
        "\n",
        "- Following is a sample run  \n",
        "\n",
        "``` \n",
        "original sequence:\n",
        "[52, 52, 77, 43, 40, 72, 65, 69, 52, 43, 64, 36, 78, 71, 71]\n",
        "sorted sequence (ascending):\n",
        "[36, 40, 43, 43, 52, 52, 52, 64, 65, 69, 71, 71, 72, 77, 78]\n",
        "sorted sequence (descending):\n",
        "[78, 77, 72, 71, 71, 69, 65, 64, 52, 52, 52, 43, 43, 40, 36]\n",
        "```\n",
        "  \n"
      ]
    },
    {
      "cell_type": "code",
      "execution_count": null,
      "metadata": {
        "id": "FoZv2DwK-iFu"
      },
      "outputs": [],
      "source": [
        "## %%writefile lab09Ex1_YourID.py\n",
        "## Uncomment the above line after you finish your code and want to save it in a file.\n",
        "from random import randint\n",
        "\n",
        "def main() :\n",
        "    result = generate_random(15)\n",
        "    print(\"original sequence:\")\n",
        "    print(result)\n",
        "    print(\"sorted sequence (ascending): \")\n",
        "    result.sort()\n",
        "    print(result)\n",
        "    print(\"sorted sequence (descending): \")\n",
        "    result.sort(reverse=True)\n",
        "    print(result)\n",
        "\n",
        "def generate_random(numOfElts) :\n",
        "    sequence = []\n",
        "    for i in range(numOfElts):\n",
        "        rando = randint(30,80)\n",
        "        sequence.append(rando)\n",
        "    return sequence\n",
        "\n",
        "main()"
      ]
    },
    {
      "cell_type": "markdown",
      "metadata": {
        "id": "73rIipuw-iFu"
      },
      "source": [
        "## Excercise # 2\n",
        "Write a program that reads a sequence of input values and displays a bar chart of the values, using asterisks, like this:  \n",
        "\n",
        "`**********************`  \n",
        "  \n",
        "`****************************************`  \n",
        "  \n",
        "`****************************`  \n",
        "  \n",
        "`**************************`  \n",
        "  \n",
        "`**************`  \n",
        "\n",
        "- Check that all values are positive integers and keep reading input until -1 is entered. In order to solve this problem, you need to first figure out the maximum value, which will be represented with a bar of 30 asterisks. Other values will be reresented with shorter bars of approximate number asterisks proportional to the values.\n",
        "- Make sure that you use functions in your solution, including a `main` function.\n",
        "- Following are some sample run:\n",
        "\n",
        "```\n",
        "\n",
        "Please enter positive values, followed by -1 to quit:\n",
        "3\n",
        "4\n",
        "8\n",
        "10\n",
        "20\n",
        "3\n",
        "18\n",
        "15\n",
        "-1\n",
        "****\n",
        "******\n",
        "************\n",
        "***************\n",
        "******************************\n",
        "****\n",
        "***************************\n",
        "**********************\n",
        "\n",
        "```\n"
      ]
    },
    {
      "cell_type": "code",
      "execution_count": null,
      "metadata": {
        "id": "uc8shL1I-iFv"
      },
      "outputs": [],
      "source": [
        "## %%writefile lab09Ex2_YourID.py\n",
        "## Uncomment the above line after you finish your code and want to save it in a file.\n",
        "def main() :\n",
        "    printStars(readInts())\n",
        "def readInts() :\n",
        "    print(\"please enter positive values, followed by -1 to quit:\")\n",
        "    nList = []\n",
        "    n = int(input())\n",
        "    while n!=-1 :\n",
        "        nList.append(int(n))\n",
        "        n = int(input())\n",
        "    return nList\n",
        "def printStars(values) :\n",
        "    maximum= max(values)\n",
        "    for element in values:\n",
        "        m = int(((30/maximum) * element))\n",
        "        print(\"*\" * m)\n",
        "main()"
      ]
    },
    {
      "cell_type": "markdown",
      "metadata": {
        "id": "VgTyqbF0-iFv"
      },
      "source": [
        "## Excercise # 3\n",
        "A supermarket wants to reward its best customer of each day, showing the customer’s name on a screen in the supermarket. For that purpose, the customer’s purchase amount is stored in a list and the customer’s name is stored in a corresponding list.\n",
        "- Implement a function `nameOfBestCustomer` that returns the name of the customer with the largest sale.  \n",
        "\n",
        ">  `def nameOfBestCustomer(sales, customers)`  \n",
        "   \n",
        "- Write a program that prompts the cashier to enter all prices and names, adds them to two lists, calls the function that you implemented, and displays the result. Use a price of Q or q to quit.\n",
        "- Make sure that you use functions in your solution, including a `main` function.\n",
        "- Following are some sample runs:\n",
        "\n",
        "Sample run\n",
        "\n",
        "```\n",
        "Enter the amount of sale (Q or q to end): q\n",
        " No Sales Today\n",
        "```\n",
        "Another run \n",
        "\n",
        "```\n",
        "Enter the amount of sale (Q or q to end): 100\n",
        "Enter the name of the customer who paid 100: Ali Ibrahim\n",
        "Enter the amount of sale (Q or q to end): 250\n",
        "Enter the name of the customer who paid 250: Khalid Said\n",
        "Enter the amount of sale (Q or q to end): 50\n",
        "Enter the name of the customer who paid 50: Gamal Nagy\n",
        "Enter the amount of sale (Q or q to end): 300\n",
        "Enter the name of the customer who paid 300: Samy Salaam\n",
        "Enter the amount of sale (Q or q to end): 40\n",
        "Enter the name of the customer who paid 40: Mohamed Said\n",
        "Enter the amount of sale (Q or q to end): Q\n",
        "The best customer is Samy Salaam who paid  300.0\n",
        "```\n"
      ]
    },
    {
      "cell_type": "code",
      "execution_count": null,
      "metadata": {
        "id": "865WqTms-iFv"
      },
      "outputs": [],
      "source": [
        "## %%writefile lab09Ex3_YourID.py\n",
        "## Uncomment the above line after you finish your code and want to save it in a file.\n",
        "def main() :\n",
        "    indata = input(\"Enter the amount of sale (Q or q to end): \")\n",
        "    if indata == \"q\" or indata == \"Q\":\n",
        "        print(\" No Sales Today\")\n",
        "    else:\n",
        "        sales = []\n",
        "        customers = []\n",
        "        while indata != \"q\" and indata != \"Q\":\n",
        "            payment=float(indata)\n",
        "            name=input(\"Enter the name of the customer who paid %d: \" % payment)\n",
        "            sales.append(payment)\n",
        "            customers.append(name)\n",
        "            indata=input(\"Enter the amount of sale (Q or q to end): \")              \n",
        "        print(\"The best customer is\", nameOfBestCustomer(sales, customers), \"who paid %.1f\"%max(sales))\n",
        "\n",
        "def nameOfBestCustomer(sales, customers):\n",
        "    highestSale = max(sales)\n",
        "    supermarketDict = {}\n",
        "    for i in range(len(sales)):\n",
        "        supermarketDict[sales[i]] = customers[i]\n",
        "    bestName = supermarketDict[highestSale]\n",
        "    return bestName\n",
        "main()"
      ]
    },
    {
      "cell_type": "markdown",
      "metadata": {
        "cell_style": "center",
        "id": "IHWDwScb-iFv"
      },
      "source": [
        "## Excercise # 4\n",
        "Implement the sieve of Eratosthenes: a function for computing prime numbers, known to the ancient Greeks. Choose an integer n. This function will compute all prime numbers up to, and including, n. \n",
        "    - First insert all numbers from 1 to n into a list. \n",
        "    - Then erase all multiples of 2 (except 2); that is, 4, 6, 8, 10, 12, ... . \n",
        "    - Erase all multiples of 3, that is, 6, 9, 12, 15, ... . \n",
        "    - Go up to $\\sqrt{n}$. \n",
        "- The remaining numbers are all primes.\n",
        "- Then write a main function that calls the above function to generate prime numbers up to 100 then generates all prime numbers from 100 to 10000 by repeatedly testing each number $100 < m < 10000$ is not divisible by number in the sieve from 2 up to $sqrt(m)$\n",
        "\n",
        "- Sample run:\n",
        "```\n",
        "101\t103\t107\t109\t113\t121\t127\t131\t137\t139\t149\t151\t157\t163\t167\t169\t173\t179\t181\t191\t193\t197\t199\t211\t223\t227\t229\t233\t239\t241\t251\t257\t263\t269\t271\t277\t281\t283\t289\t293\t307\t311\t313\t317\t331\t337\t347\t349\t353\t359\t361\t367\t373\t379\t383\t389\t397\t401\t409\t419\t421\t431\t433\t439\t443\t449\t457\t461\t463\t467\t479\t487\t491\t499\t503\t509\t521\t523\t529\t541\t547\t557\t563\t569\t571\t577\t587\t593\t599\t601\t607\t613\t617\t619\t631\t641\t643\t647\t653\t659\t661\t673\t677\t683\t691\t701\t709\t719\t727\t733\t739\t743\t751\t757\t761\t769\t773\t787\t797\t809\t811\t821\t823\t827\t829\t839\t841\t853\t857\t859\t863\t877\t881\t883\t887\t907\t911\t919\t929\t937\t941\t947\t953\t961\t967\t971\t977\t983\t991\t997\t1009\t1013\t1019\t1021\t1031\t1033\t1039\t1049\t1051\t1061\t1063\t1069\t1087\t1091\t1093\t1097\t1103\t1109\t1117\t1123\t1129\t1151\t1153\t1163\t1171\t1181\t1187\t1193\t1201\t1213\t1217\t1223\t1229\t1231\t1237\t1249\t1259\t1277\t1279\t1283\t1289\t1291\t1297\t1301\t1303\t1307\t1319\t1321\t1327\t1361\t1367\t1369\t1373\t1381\t1399\t1409\t1423\t1427\t1429\t1433\t1439\t1447\t1451\t1453\t1459\t1471\t1481\t1483\t1487\t1489\t1493\t1499\t1511\t1523\t1531\t1543\t1549\t1553\t1559\t1567\t1571\t1579\t1583\t1597\t1601\t1607\t1609\t1613\t1619\t1621\t1627\t1637\t1657\t1663\t1667\t1669\t1681\t1693\t1697\t1699\t1709\t1721\t1723\t1733\t1741\t1747\t1753\t1759\t1777\t1783\t1787\t1789\t1801\t1811\t1823\t1831\t1847\t1849\t1861\t1867\t1871\t1873\t1877\t1879\t1889\t1901\t1907\t1913\t1931\t1933\t1949\t1951\t1973\t1979\t1987\t1993\t1997\t1999\t2003\t2011\t2017\t2027\t2029\t2039\t2053\t2063\t2069\t2081\t2083\t2087\t2089\t2099\t2111\t2113\t2129\t2131\t2137\t2141\t2143\t2153\t2161\t2179\t2203\t2207\t2209\t2213\t2221\t2237\t2239\t2243\t2251\t2267\t2269\t2273\t2281\t2287\t2293\t2297\t2309\t2311\t2333\t2339\t2341\t2347\t2351\t2357\t2371\t2377\t2381\t2383\t2389\t2393\t2399\t2411\t2417\t2423\t2437\t2441\t2447\t2459\t2467\t2473\t2477\t2503\t2521\t2531\t2539\t2543\t2549\t2551\t2557\t2579\t2591\t2593\t2609\t2617\t2621\t2633\t2647\t2657\t2659\t2663\t2671\t2677\t2683\t2687\t2689\t2693\t2699\t2707\t2711\t2713\t2719\t2729\t2731\t2741\t2749\t2753\t2767\t2777\t2789\t2791\t2797\t2801\t2803\t2809\t2819\t2833\t2837\t2843\t2851\t2857\t2861\t2879\t2887\t2897\t2903\t2909\t2917\t2927\t2939\t2953\t2957\t2963\t2969\t2971\t2999\t3001\t3011\t3019\t3023\t3037\t3041\t3049\t3061\t3067\t3079\t3083\t3089\t3109\t3119\t3121\t3137\t3163\t3167\t3169\t3181\t3187\t3191\t3203\t3209\t3217\t3221\t3229\t3251\t3253\t3257\t3259\t3271\t3299\t3301\t3307\t3313\t3319\t3323\t3329\t3331\t3343\t3347\t3359\t3361\t3371\t3373\t3389\t3391\t3407\t3413\t3433\t3449\t3457\t3461\t3463\t3467\t3469\t3481\t3491\t3499\t3511\t3517\t3527\t3529\t3533\t3539\t3541\t3547\t3557\t3559\t3571\t3581\t3583\t3593\t3607\t3613\t3617\t3623\t3631\t3637\t3643\t3659\t3671\t3673\t3677\t3691\t3697\t3701\t3709\t3719\t3721\t3727\t3733\t3739\t3761\t3767\t3769\t3779\t3793\t3797\t3803\t3821\t3823\t3833\t3847\t3851\t3853\t3863\t3877\t3881\t3889\t3907\t3911\t3917\t3919\t3923\t3929\t3931\t3943\t3947\t3967\t3989\t4001\t4003\t4007\t4013\t4019\t4021\t4027\t4049\t4051\t4057\t4073\t4079\t4091\t4093\t4099\t4111\t4127\t4129\t4133\t4139\t4153\t4157\t4159\t4177\t4201\t4211\t4217\t4219\t4229\t4231\t4241\t4243\t4253\t4259\t4261\t4271\t4273\t4283\t4289\t4297\t4327\t4337\t4339\t4349\t4357\t4363\t4373\t4391\t4397\t4409\t4421\t4423\t4441\t4447\t4451\t4457\t4463\t4481\t4483\t4489\t4493\t4507\t4513\t4517\t4519\t4523\t4547\t4549\t4561\t4567\t4583\t4591\t4597\t4603\t4621\t4637\t4639\t4643\t4649\t4651\t4657\t4663\t4673\t4679\t4691\t4703\t4721\t4723\t4729\t4733\t4751\t4759\t4783\t4787\t4789\t4793\t4799\t4801\t4813\t4817\t4831\t4861\t4871\t4877\t4889\t4903\t4909\t4919\t4931\t4933\t4937\t4943\t4951\t4957\t4967\t4969\t4973\t4987\t4993\t4999\t5003\t5009\t5011\t5021\t5023\t5039\t5041\t5051\t5059\t5077\t5081\t5087\t5099\t5101\t5107\t5113\t5119\t5147\t5153\t5167\t5171\t5179\t5189\t5197\t5209\t5227\t5231\t5233\t5237\t5261\t5273\t5279\t5281\t5297\t5303\t5309\t5323\t5329\t5333\t5347\t5351\t5381\t5387\t5393\t5399\t5407\t5413\t5417\t5419\t5431\t5437\t5441\t5443\t5449\t5471\t5477\t5479\t5483\t5501\t5503\t5507\t5519\t5521\t5527\t5531\t5557\t5563\t5569\t5573\t5581\t5591\t5623\t5639\t5641\t5647\t5651\t5653\t5657\t5659\t5669\t5683\t5689\t5693\t5701\t5711\t5717\t5737\t5741\t5743\t5749\t5779\t5783\t5791\t5801\t5807\t5813\t5821\t5827\t5839\t5843\t5849\t5851\t5857\t5861\t5867\t5869\t5879\t5881\t5897\t5903\t5923\t5927\t5939\t5953\t5981\t5987\t6007\t6011\t6029\t6037\t6043\t6047\t6053\t6067\t6073\t6079\t6089\t6091\t6101\t6113\t6121\t6131\t6133\t6143\t6151\t6163\t6173\t6197\t6199\t6203\t6211\t6217\t6221\t6229\t6241\t6247\t6257\t6263\t6269\t6271\t6277\t6287\t6299\t6301\t6311\t6317\t6323\t6329\t6337\t6343\t6353\t6359\t6361\t6367\t6373\t6379\t6389\t6397\t6421\t6427\t6449\t6451\t6469\t6473\t6481\t6491\t6521\t6529\t6547\t6551\t6553\t6563\t6569\t6571\t6577\t6581\t6599\t6607\t6619\t6637\t6653\t6659\t6661\t6673\t6679\t6689\t6691\t6701\t6703\t6709\t6719\t6733\t6737\t6761\t6763\t6779\t6781\t6791\t6793\t6803\t6823\t6827\t6829\t6833\t6841\t6857\t6863\t6869\t6871\t6883\t6889\t6899\t6907\t6911\t6917\t6947\t6949\t6959\t6961\t6967\t6971\t6977\t6983\t6991\t6997\t7001\t7013\t7019\t7027\t7039\t7043\t7057\t7069\t7079\t7103\t7109\t7121\t7127\t7129\t7151\t7159\t7177\t7187\t7193\t7207\t7211\t7213\t7219\t7229\t7237\t7243\t7247\t7253\t7283\t7297\t7307\t7309\t7321\t7331\t7333\t7349\t7351\t7369\t7393\t7411\t7417\t7433\t7451\t7457\t7459\t7477\t7481\t7487\t7489\t7499\t7507\t7517\t7523\t7529\t7537\t7541\t7547\t7549\t7559\t7561\t7573\t7577\t7583\t7589\t7591\t7603\t7607\t7621\t7639\t7643\t7649\t7669\t7673\t7681\t7687\t7691\t7699\t7703\t7717\t7723\t7727\t7741\t7753\t7757\t7759\t7789\t7793\t7817\t7823\t7829\t7841\t7853\t7867\t7873\t7877\t7879\t7883\t7901\t7907\t7919\t7921\t7927\t7933\t7937\t7949\t7951\t7963\t7993\t8009\t8011\t8017\t8039\t8053\t8059\t8069\t8081\t8087\t8089\t8093\t8101\t8111\t8117\t8123\t8147\t8161\t8167\t8171\t8179\t8191\t8209\t8219\t8221\t8231\t8233\t8237\t8243\t8263\t8269\t8273\t8287\t8291\t8293\t8297\t8311\t8317\t8329\t8353\t8363\t8369\t8377\t8387\t8389\t8419\t8423\t8429\t8431\t8443\t8447\t8461\t8467\t8501\t8513\t8521\t8527\t8537\t8539\t8543\t8563\t8573\t8581\t8597\t8599\t8609\t8623\t8627\t8629\t8641\t8647\t8663\t8669\t8677\t8681\t8689\t8693\t8699\t8707\t8713\t8719\t8731\t8737\t8741\t8747\t8753\t8761\t8779\t8783\t8803\t8807\t8819\t8821\t8831\t8837\t8839\t8849\t8861\t8863\t8867\t8887\t8893\t8923\t8929\t8933\t8941\t8951\t8963\t8969\t8971\t8999\t9001\t9007\t9011\t9013\t9029\t9041\t9043\t9049\t9059\t9067\t9091\t9103\t9109\t9127\t9133\t9137\t9151\t9157\t9161\t9173\t9181\t9187\t9199\t9203\t9209\t9221\t9227\t9239\t9241\t9257\t9277\t9281\t9283\t9293\t9311\t9319\t9323\t9337\t9341\t9343\t9349\t9371\t9377\t9391\t9397\t9403\t9409\t9413\t9419\t9421\t9431\t9433\t9437\t9439\t9461\t9463\t9467\t9473\t9479\t9491\t9497\t9511\t9521\t9533\t9539\t9547\t9551\t9587\t9601\t9613\t9619\t9623\t9629\t9631\t9643\t9649\t9661\t9677\t9679\t9689\t9697\t9719\t9721\t9733\t9739\t9743\t9749\t9767\t9769\t9781\t9787\t9791\t9803\t9811\t9817\t9829\t9833\t9839\t9851\t9857\t9859\t9871\t9883\t9887\t9901\t9907\t9923\t9929\t9931\t9941\t9949\t9967\t9973\n",
        "\n",
        "```\n"
      ]
    },
    {
      "cell_type": "code",
      "execution_count": null,
      "metadata": {
        "id": "iiqsbv3L-iFv"
      },
      "outputs": [],
      "source": [
        "## %%writefile lab09Ex4_YourID.py\n",
        "## Uncomment the above line after you finish your code and want to save it in a file.\n",
        "def main():\n",
        "    #sieveOfEratosthenes(100)\n",
        "    #print()\n",
        "   \n",
        "    primeListR=[]\n",
        "    for x in range(100,10001):\n",
        "        primeListR.append(x)\n",
        "   \n",
        "    p=2\n",
        "    while (p*p <= 10000):\n",
        " \n",
        "        for i in range(p*p, 10001, p):\n",
        "           if i in primeListR:\n",
        "                primeListR.remove(i)\n",
        "        p += 1\n",
        "             \n",
        "    for c in primeListR:\n",
        "        print(c, end=\"  \")\n",
        "\n",
        "def sieveOfEratosthenes(n):    \n",
        "    primeList = []\n",
        "    for x in range(1,n+1):\n",
        "        primeList.append(x)\n",
        "   \n",
        "    primeList.remove(1)\n",
        "    p=2\n",
        "    while (p*p <= n):\n",
        " \n",
        "        for i in range(p*p, n+1, p):\n",
        "           if i in primeList:\n",
        "                primeList.remove(i)\n",
        "        p += 1\n",
        "   \n",
        "    for c in primeList:\n",
        "        print(c, end=\"  \")    \n",
        "main()"
      ]
    },
    {
      "cell_type": "code",
      "execution_count": null,
      "metadata": {
        "id": "tGVyh3jo-iFw"
      },
      "outputs": [],
      "source": []
    }
  ],
  "metadata": {
    "celltoolbar": "Slideshow",
    "kernelspec": {
      "display_name": "Python 3",
      "language": "python",
      "name": "python3"
    },
    "language_info": {
      "codemirror_mode": {
        "name": "ipython",
        "version": 3
      },
      "file_extension": ".py",
      "mimetype": "text/x-python",
      "name": "python",
      "nbconvert_exporter": "python",
      "pygments_lexer": "ipython3",
      "version": "3.8.8"
    },
    "rise": {
      "theme": "yellow"
    },
    "toc": {
      "base_numbering": 1,
      "nav_menu": {},
      "number_sections": true,
      "sideBar": true,
      "skip_h1_title": false,
      "title_cell": "Table of Contents",
      "title_sidebar": "Contents",
      "toc_cell": false,
      "toc_position": {},
      "toc_section_display": true,
      "toc_window_display": false
    },
    "colab": {
      "provenance": []
    }
  },
  "nbformat": 4,
  "nbformat_minor": 0
}